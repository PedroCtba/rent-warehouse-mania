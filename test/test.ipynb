{
 "cells": [
  {
   "cell_type": "code",
   "execution_count": 1,
   "metadata": {},
   "outputs": [],
   "source": [
    "import requests\n",
    "from bs4 import BeautifulSoup"
   ]
  },
  {
   "cell_type": "code",
   "execution_count": 17,
   "metadata": {},
   "outputs": [],
   "source": [
    "response = requests.get(url)\n",
    "\n",
    "soup = BeautifulSoup(response.content, \"html.parser\")\n",
    "\n",
    "imoveis = [imovel.text for imovel in soup.find_all(\"div\", class_=\"imoveis__Card-obm8pe-0 tNifl\")]"
   ]
  },
  {
   "cell_type": "code",
   "execution_count": 33,
   "metadata": {},
   "outputs": [],
   "source": [
    "# Fazer função de pegar o possível preço do imóvel em uma lista\n",
    "def get_probable_rent_price(possible_prices: list) -> float:\n",
    "    # Fazer lista vazia para guardar os valores que realmente podem ser o preço\n",
    "    new_possible_prices = []\n",
    "\n",
    "    # Iterar as possíveis string que contem o preço\n",
    "    for price in possible_prices:\n",
    "        # Se a string iterada tiver qualquer dígito numérico\n",
    "        if any(l.isdigit() for l in price):\n",
    "            # Guarde ela na lista\n",
    "            new_possible_prices.append(price)\n",
    "\n",
    "    # Transforme todos os items em \"new_possible_prices\" em floats\n",
    "    new_possible_prices = [float(\"\".join([l for l in price if l.isdigit() or l in (\".\", \",\")])) for price in new_possible_prices]\n",
    "\n",
    "    # Retorne o maior campo da lista\n",
    "    return max(new_possible_prices)\n"
   ]
  },
  {
   "cell_type": "code",
   "execution_count": 40,
   "metadata": {},
   "outputs": [],
   "source": [
    "imovel_sentences = imoveis[0].split()"
   ]
  },
  {
   "cell_type": "code",
   "execution_count": 41,
   "metadata": {},
   "outputs": [
    {
     "data": {
      "text/plain": [
       "['Apartamento',\n",
       " 'com',\n",
       " '2',\n",
       " 'quartos',\n",
       " 'para',\n",
       " 'alugar,',\n",
       " '55.00',\n",
       " 'm2',\n",
       " 'por',\n",
       " 'r$1900.00',\n",
       " '-',\n",
       " 'tingui',\n",
       " '-',\n",
       " 'curitiba/prApartamento',\n",
       " 'com',\n",
       " '2',\n",
       " 'quartos',\n",
       " 'para',\n",
       " 'alugar,',\n",
       " '55.00',\n",
       " 'm2',\n",
       " 'por',\n",
       " 'r$1900.00',\n",
       " '-',\n",
       " 'tingui',\n",
       " '-',\n",
       " 'curitiba/prRua',\n",
       " 'Hilário',\n",
       " 'Moro,',\n",
       " '526',\n",
       " 'Tingui,',\n",
       " 'CuritibaR$',\n",
       " '1.900',\n",
       " 'Cond.:',\n",
       " 'R$',\n",
       " '350CONDOMÍNIO',\n",
       " 'CLUB',\n",
       " 'COM',\n",
       " 'ELEVADOR,',\n",
       " 'PISCINA;',\n",
       " 'QUADRAS;',\n",
       " 'CHURRASQUEIRAS;',\n",
       " 'SALÃO',\n",
       " 'DE',\n",
       " 'FESTAS;',\n",
       " 'SALÃO',\n",
       " 'DE',\n",
       " 'JOGOS.',\n",
       " 'LAVANDERIA,',\n",
       " 'BRINQUEDOTECA,',\n",
       " 'MERCADO,',\n",
       " 'PLAY',\n",
       " 'GROUND,',\n",
       " 'PORTARIA',\n",
       " '24',\n",
       " 'HORAS;',\n",
       " 'APARTAMENTO',\n",
       " 'CONTENDO',\n",
       " '02',\n",
       " 'DORMITÓRIOS',\n",
       " 'SENDO',\n",
       " '1',\n",
       " 'SUÍTE,',\n",
       " 'SALA',\n",
       " 'COM',\n",
       " 'SACADA,',\n",
       " 'PISO',\n",
       " 'LAMINADO,',\n",
       " 'BANHEIRO',\n",
       " 'SOCIAL,',\n",
       " 'COZINHA',\n",
       " 'E',\n",
       " 'ÁREA',\n",
       " 'DE',\n",
       " 'SERVIÇO,',\n",
       " '1',\n",
       " 'VAGA',\n",
       " 'DE',\n",
       " 'GARAGEM',\n",
       " 'LIVRE',\n",
       " 'E',\n",
       " 'COBERTA.',\n",
       " 'INF.',\n",
       " '041',\n",
       " '-',\n",
       " '9<ver_telefone>',\n",
       " '55m²',\n",
       " '2',\n",
       " 'Quartos',\n",
       " '1',\n",
       " 'Banheiro1',\n",
       " 'GaragemContatar']"
      ]
     },
     "execution_count": 41,
     "metadata": {},
     "output_type": "execute_result"
    }
   ],
   "source": [
    "imovel_sentences"
   ]
  }
 ],
 "metadata": {
  "kernelspec": {
   "display_name": "Python 3",
   "language": "python",
   "name": "python3"
  },
  "language_info": {
   "codemirror_mode": {
    "name": "ipython",
    "version": 3
   },
   "file_extension": ".py",
   "mimetype": "text/x-python",
   "name": "python",
   "nbconvert_exporter": "python",
   "pygments_lexer": "ipython3",
   "version": "3.10.11"
  }
 },
 "nbformat": 4,
 "nbformat_minor": 2
}
