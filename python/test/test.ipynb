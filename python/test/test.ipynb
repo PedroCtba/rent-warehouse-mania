{
 "cells": [
  {
   "cell_type": "code",
   "execution_count": 46,
   "metadata": {},
   "outputs": [],
   "source": [
    "import duckdb\n",
    "\n",
    "# Criar a conexão\n",
    "con = duckdb.connect(database=\"C:\\\\Users\\\\PedroMiyasaki\\\\OneDrive - DHAUZ\\\\Área de Trabalho\\\\Projetos\\\\PESSOAL\\\\rent-warehouse-mania\\\\db\\\\rent_warehouse_mania.duckdb\")\n",
    "\n",
    "# Pegar todos os esquemas que não seham stagging\n",
    "schemas = [schema[1] for schema in con.execute(\"SHOW ALL TABLES\").fetchall() if \"staging\" not in schema[1]]\n",
    "\n",
    "# Tirar schemas duplicados\n",
    "not_duplicated_schemas = list(dict.fromkeys(schemas))\n",
    "\n",
    "# Fazer um dataframe para cada schema\n",
    "dataframes = []\n",
    "\n",
    "# Itere todos os esquemas\n",
    "for schema in not_duplicated_schemas:\n",
    "    # Set a conexão nesse schema\n",
    "    con.execute(f\"SET schema '{schema}'\")\n",
    "\n",
    "    # Faça uma lista de tabelas desse schema\n",
    "    schema_tables = [table[0] for table in con.execute(\"SHOW TABLES\").fetchall()]\n",
    "\n",
    "    # Itere todas as tabelas\n",
    "    for table in schema_tables:\n",
    "        # Se a table não for nativa do DLT\n",
    "        if \"dlt\" not in table:\n",
    "            # De um select * na tabela (transforme em dataframe)\n",
    "            df = con.execute(f\"SELECT * FROM {table}\").df()\n",
    "\n",
    "            # Salve na lista\n",
    "            dataframes.append(df)"
   ]
  },
  {
   "cell_type": "code",
   "execution_count": 51,
   "metadata": {},
   "outputs": [
    {
     "data": {
      "text/plain": [
       "['chaves_na_mao_schema', 'olx_schema', 'zap_imoveis_schema']"
      ]
     },
     "execution_count": 51,
     "metadata": {},
     "output_type": "execute_result"
    }
   ],
   "source": [
    "not_duplicated_schemas"
   ]
  },
  {
   "cell_type": "code",
   "execution_count": 50,
   "metadata": {},
   "outputs": [
    {
     "data": {
      "text/plain": [
       "'_dlt_loads'"
      ]
     },
     "execution_count": 50,
     "metadata": {},
     "output_type": "execute_result"
    }
   ],
   "source": [
    "schema_tables[0]"
   ]
  },
  {
   "cell_type": "code",
   "execution_count": null,
   "metadata": {},
   "outputs": [],
   "source": []
  }
 ],
 "metadata": {
  "kernelspec": {
   "display_name": "Python 3",
   "language": "python",
   "name": "python3"
  },
  "language_info": {
   "codemirror_mode": {
    "name": "ipython",
    "version": 3
   },
   "file_extension": ".py",
   "mimetype": "text/x-python",
   "name": "python",
   "nbconvert_exporter": "python",
   "pygments_lexer": "ipython3",
   "version": "3.11.7"
  }
 },
 "nbformat": 4,
 "nbformat_minor": 2
}
