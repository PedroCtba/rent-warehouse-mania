{
 "cells": [
  {
   "cell_type": "markdown",
   "metadata": {},
   "source": [
    "# Imports"
   ]
  },
  {
   "cell_type": "code",
   "execution_count": 3,
   "metadata": {},
   "outputs": [],
   "source": [
    "import pandas as pd\n",
    "import datetime\n",
    "from dlt.sources.helpers import requests\n",
    "from bs4 import BeautifulSoup\n",
    "from hashlib import md5\n",
    "import re"
   ]
  },
  {
   "cell_type": "markdown",
   "metadata": {},
   "source": [
    "# Teste scrappers"
   ]
  },
  {
   "cell_type": "markdown",
   "metadata": {},
   "source": [
    "## Chaves na mão"
   ]
  },
  {
   "cell_type": "markdown",
   "metadata": {},
   "source": [
    "### Variáveis iniciais"
   ]
  },
  {
   "cell_type": "code",
   "execution_count": 15,
   "metadata": {},
   "outputs": [],
   "source": [
    "url: str = \"https://www.vivareal.com.br/aluguel/parana/curitiba/?pagina=1@#onde=,Paran%C3%A1,Curitiba,,,,,city,BR%3EParana%3ENULL%3ECuritiba,,,\"\n",
    "#rent_html_class: str = \"imoveis__Card-obm8pe-0 tNifl\""
   ]
  },
  {
   "cell_type": "markdown",
   "metadata": {},
   "source": [
    "### Funções"
   ]
  },
  {
   "cell_type": "code",
   "execution_count": 17,
   "metadata": {},
   "outputs": [],
   "source": [
    "# Fazer função de filtrar lista de palavras\n",
    "def filter_words(words_list, desired_c=None, not_desired_c=None):\n",
    "    # Retornar lista com as palavras contenham todos os desired_c e nenhum dos not_desired_c\n",
    "    if desired_c and not_desired_c:\n",
    "        return [word for word in words_list if any(char in word for char in desired_c) and all(char not in word for char in not_desired_c)]\n",
    "    \n",
    "    # Retornar lista com as palavras contenham todos os desired_c\n",
    "    elif desired_c:\n",
    "        return [word for word in words_list if any(char in word for char in desired_c)]\n",
    "\n",
    "    # Retornar lista com as palavras não contenham not_desired_c\n",
    "    elif not_desired_c:\n",
    "        return [word for word in words_list if all(char not in word for char in not_desired_c)]\n",
    "\n",
    "# Fazer função de pegar o possível preço do imóvel em uma lista\n",
    "def get_rent_price(possible_prices: list, max_rent: float = float(\"inf\")) -> float:\n",
    "    # Fazer lista vazia para guardar os valores que realmente podem ser o preço\n",
    "    new_possible_prices = []\n",
    "\n",
    "    # Iterar as possíveis strings que contem o preço\n",
    "    for price in possible_prices:\n",
    "        # Se a string iterada tiver qualquer dígito numérico\n",
    "        if any(l.isdigit() for l in price):\n",
    "            # Mantenha apenas os numéricos ou \".\", \",\" na string\n",
    "            price = \"\".join([l for l in price if l.isdigit() or l in (\".\", \",\")])\n",
    "\n",
    "            # Em casos de preço com virgula, pegue a primeira parte do preço apenas\n",
    "            price = price.split(\",\")[0]\n",
    "\n",
    "            # Remova . se eles forem começo ou final de string\n",
    "            price = price.strip(\".\")\n",
    "\n",
    "            # Converta . em _\n",
    "            price = price.replace(\".\", \"_\")\n",
    "            \n",
    "            # Tente\n",
    "            try:\n",
    "                # Conversão para floar\n",
    "                price = float(price)\n",
    "\n",
    "                # Se o preço for maior que 100_000, divida-o por esse valor\n",
    "                if price > 99_999:\n",
    "                    price = price / 100_000\n",
    "\n",
    "                # Guarde ela na lista \n",
    "                new_possible_prices.append(price)\n",
    "\n",
    "            # Em caso de erro de tipo na conversão, pule essa string\n",
    "            except ValueError:\n",
    "                print(f\"String -> {price} não é um preço de imóvel!\")\n",
    "\n",
    "    # Filtrar alugueis abaixo de max_rent\n",
    "    new_possible_prices = [price for price in new_possible_prices if price < max_rent]\n",
    "\n",
    "    # Tente\n",
    "    try:\n",
    "        # Retornae o maior campo da lista\n",
    "        return max(new_possible_prices)\n",
    "    \n",
    "    # Em caso de lista vazia\n",
    "    except ValueError:\n",
    "        # Retorne nuloe\n",
    "        return None\n",
    "\n",
    "# Fazer função de pegar o tamanho do imóvel\n",
    "def get_rent_size(possible_sizes: list,  max_size: int = float(\"inf\")) -> float:\n",
    "    # Fazer lista vazia para guardar os valores que realmente podem ser o tamanho do imóvel\n",
    "    new_possible_sizes = []\n",
    "\n",
    "    # Iterar as possíveis strings que contem o tamanho\n",
    "    for size in possible_sizes:\n",
    "        # Se a string iterada tiver qualquer dígito numérico que não seja ², ³\n",
    "        if any(l.isdigit() and l != \"²\" and l != \"³\" for l in size):\n",
    "            # Deixe somente numeros e não deixe ², ³\n",
    "            size = \"\".join([l for l in size if (l.isdigit() and l != \"²\" and l != \"³\") or (l == \",\")])\n",
    "\n",
    "            # Divida o tamanho na \",\" (se tiver) e pegue o primeiro campo\n",
    "            size = size.split(\",\")[0]\n",
    "\n",
    "            # Tente\n",
    "            try:\n",
    "                # Conversão para inteiro\n",
    "                size = int(size)\n",
    "            \n",
    "                # Guarde ela na lista\n",
    "                new_possible_sizes.append(size)\n",
    "\n",
    "            # Em caso de erro de tipo na conversão, pule essa string\n",
    "            except ValueError:\n",
    "                print(f\"String -> {size} não é um tamanho de imóvel!\")\n",
    "\n",
    "    # Filtrar tamanhnos abaixo de max_size\n",
    "    new_possible_sizes = [size for size in new_possible_sizes if size < max_size]\n",
    "\n",
    "    # Tente retornar o primeiro indice\n",
    "    try:\n",
    "        # Retorne o primeiro campo da lista\n",
    "        return new_possible_sizes[0]\n",
    "    \n",
    "    # Se não houver itens o suficiente\n",
    "    except IndexError:\n",
    "        # Retorne Nuloe\n",
    "        return None\n",
    "\n",
    "# Fazer função de pegar o endereço do imóvel\n",
    "def get_rent_adress(rent_splited_words: list) -> str:\n",
    "    # Importar objetos   \n",
    "    from rent_warehouse_mania_pipeline_objects import street_synonyms, city_names\n",
    "    \n",
    "    # Faça uma lista vazia para guardar os possíveis indexes\n",
    "    possible_rua_index = []\n",
    "    possible_city_index = []\n",
    "\n",
    "    # Iterar todas as palavras buscando os possíveis indices da rua\n",
    "    for iword, word in enumerate(rent_splited_words):\n",
    "        # Se a palavra estiver na lista de sinonimos para rua, guarde esse index\n",
    "        if any(i in word.lower() for i in street_synonyms):\n",
    "            possible_rua_index.append(iword)\n",
    "\n",
    "        # Se a palavra estiver na lista de cidades, guarde esse index\n",
    "        if any(i in word.lower() for i in city_names):\n",
    "            possible_city_index.append(iword)\n",
    "\n",
    "    # Se ambas as listas tiverem idnex\n",
    "    if len(possible_rua_index) != 0 and len(possible_city_index) != 0:\n",
    "        # Retornar o join de todas as palavras na string, escolhendo o min(possible_rua_index) até o max(possible_city_index)\n",
    "        return \" \".join(rent_splited_words[min(possible_rua_index):max(possible_city_index)])\n",
    "    \n",
    "    # Do contrário\n",
    "    else:\n",
    "        # Retorne um join geral\n",
    "        return \" \".join(rent_splited_words)\n"
   ]
  },
  {
   "cell_type": "markdown",
   "metadata": {},
   "source": [
    "### Scrapper"
   ]
  },
  {
   "cell_type": "code",
   "execution_count": 18,
   "metadata": {},
   "outputs": [],
   "source": [
    "# Pegar a response\n",
    "response = requests.get(url)\n",
    "\n",
    "# Se o status vier 200, prossiga\n",
    "if response.status_code == 200:\n",
    "    # Pegar sopa de letras com o BeautifulSoup\n",
    "    soup = BeautifulSoup(response.content, \"html.parser\")\n",
    "\n",
    "    # Pegar todas as divs com a classe rent_html_class\n",
    "    imoveis = [imovel.text for imovel in soup.find_all(\"article\", class_=\"property-card__container js-property-card\")]\n",
    "\n",
    "    di = {\n",
    "        \"id\": [],\n",
    "        \"preco\": [],\n",
    "        \"tamanho\": [],\n",
    "        \"endereco\": [],\n",
    "    }\n",
    "    \n",
    "    # Iterar todos os imóveis\n",
    "    for imovel in imoveis:\n",
    "        # Splitar palavras do card do imovel\n",
    "        imovel_words = imovel.split()\n",
    "\n",
    "        # Pegar campo de preço do imovel\n",
    "        preco = get_rent_price(filter_words(imovel_words, desired_c=[\".\", \"$\"], not_desired_c=[\"²\", \"³\"]), max_rent=50_000)\n",
    "\n",
    "        # Pegar campo de tamanho\n",
    "        tamanho = get_rent_size(filter_words(imovel_words, desired_c=[\"²\", \"³\"], not_desired_c=\"$\"), max_size=5_000)\n",
    "\n",
    "        # Pegar campo de endereço\n",
    "        endereco = get_rent_adress(imovel_words)\n",
    "\n",
    "        # Gerar id com hash md5\n",
    "        rent_id = md5(endereco.encode(\"utf-8\")).hexdigest()\n",
    "\n",
    "        # apendaar na lista\n",
    "        di[\"id\"].append(rent_id)\n",
    "        di[\"endereco\"].append(endereco)\n",
    "        di[\"preco\"].append(preco)\n",
    "        di[\"tamanho\"].append(tamanho)"
   ]
  },
  {
   "cell_type": "code",
   "execution_count": 7,
   "metadata": {},
   "outputs": [
    {
     "data": {
      "text/plain": [
       "<Response [200]>"
      ]
     },
     "execution_count": 7,
     "metadata": {},
     "output_type": "execute_result"
    }
   ],
   "source": [
    "requests.get(\"https://www.vivareal.com.br/aluguel/parana/curitiba/?pagina=99999999999999999999999999999999999999999999999#onde=,Paran%C3%A1,Curitiba,,,,,city,BR%3EParana%3ENULL%3ECuritiba,,,\")"
   ]
  },
  {
   "cell_type": "code",
   "execution_count": 23,
   "metadata": {},
   "outputs": [
    {
     "data": {
      "text/plain": [
       "['Indisponível',\n",
       " 'Visualizado',\n",
       " '+',\n",
       " '42',\n",
       " 'fotos',\n",
       " 'Apartamento',\n",
       " 'com',\n",
       " '3',\n",
       " 'Quartos',\n",
       " 'para',\n",
       " 'Aluguel,',\n",
       " '104m²',\n",
       " 'Cristo',\n",
       " 'Rei,',\n",
       " 'Curitiba',\n",
       " '-',\n",
       " 'PR',\n",
       " 'ver',\n",
       " 'mapa',\n",
       " '104',\n",
       " 'm²',\n",
       " '3',\n",
       " 'Quartos',\n",
       " '2',\n",
       " 'Banheiros',\n",
       " '2',\n",
       " 'Vagas',\n",
       " 'R$',\n",
       " '2.500',\n",
       " '/Mês',\n",
       " 'Condomínio:',\n",
       " 'R$',\n",
       " '700',\n",
       " 'Telefone',\n",
       " 'Mensagem',\n",
       " 'Whatsapp']"
      ]
     },
     "execution_count": 23,
     "metadata": {},
     "output_type": "execute_result"
    }
   ],
   "source": [
    "imovel_words"
   ]
  },
  {
   "cell_type": "code",
   "execution_count": 22,
   "metadata": {},
   "outputs": [
    {
     "data": {
      "text/plain": [
       "['     Indisponível Visualizado                  + 12 fotos                       Apartamento com 2 Quartos para Aluguel, 68m²    Rua Domingos Gabardo, 117 - Capão Raso, Curitiba - PR  ver mapa       68   m²     2   Quartos     2   Banheiros     1   Vaga      Mobiliado   Churrasqueira   Elevador   Varanda   Academia  ...       R$ 2.600 /Mês     Condomínio:   R$ 550         Telefone  Mensagem  Whatsapp     ',\n",
       " '     Indisponível Visualizado                  + 12 fotos                       Apartamento com 2 Quartos para Aluguel, 72m²    Rua Urbano Lopes, 402 - Cristo Rei, Curitiba - PR  ver mapa       72   m²     2   Quartos     1   Banheiro     1   Vaga      Condomínio fechado   Portão eletrônico   Portaria 24h        R$ 2.300 /Mês     Condomínio:   R$ 570         Telefone  Mensagem      ',\n",
       " '     Indisponível Visualizado                  + 6 fotos                       Apartamento com 3 Quartos para Aluguel, 45m²    Rua Padre José Lopacinski, 580 - Cidade Industrial, Curitiba - PR  ver mapa       45   m²     3   Quartos     1   Banheiro     1   Vaga      Garagem        R$ 1.300 /Mês       Telefone  Mensagem  Whatsapp     ',\n",
       " '     Indisponível Visualizado                  + 5 fotos                       Apartamento com  Quarto para Aluguel, 24m²    Rua Desembargador Westphalen - Rebouças, Curitiba - PR  ver mapa       24   m²     1   Quarto     1   Banheiro     1   Vaga         R$ 1.800 /Mês     Condomínio:   R$ 220         Telefone  Mensagem  Whatsapp     ',\n",
       " '     Indisponível Visualizado                  + 13 fotos                       Apartamento com 2 Quartos para Aluguel, 53m²    Rua Anna Dinarowski Sobczyk, 57 - Cidade Industrial, Curitiba - PR  ver mapa       53   m²     2   Quartos     1   Banheiro     1   Vaga      Churrasqueira   Elevador   Academia   Jardim   Playground  ...       R$ 1.500 /Mês     Condomínio:   R$ 260         Telefone  Mensagem  Whatsapp     ',\n",
       " '     Indisponível Visualizado                  + 4 fotos                       Sala/Conjunto    para Aluguel, 32m²    Avenida Sete de Setembro - Centro, Curitiba - PR  ver mapa       32   m²     --   Quarto     --   Banheiro     --   Vaga      Condomínio fechado   Copa   Escritório        R$ 2.600 /Mês       Telefone  Mensagem  Whatsapp     ',\n",
       " '     Indisponível Visualizado                  + 25 fotos                       Apartamento com  Quarto para Aluguel, 34m²    Avenida Vicente Machado, 15 - Centro, Curitiba - PR  ver mapa       34   m²     1   Quarto     1   Banheiro     1   Vaga      Churrasqueira   Varanda        R$ 1.800 /Mês     Condomínio:   R$ 728         Telefone  Mensagem  Whatsapp     ',\n",
       " '     Indisponível Visualizado                                  Ponto comercial/Loja/Box    para Aluguel, 150m²    Bacacheri, Curitiba - PR  ver mapa       150   m²     --   Quarto     --   Banheiro     --   Vaga         R$ 100 /Mês       Telefone  Mensagem  Whatsapp     ',\n",
       " '     Indisponível Visualizado                  + 8 fotos                       Sala/Conjunto    para Aluguel, 61m²    Avenida Sete de Setembro, 4923 - Batel, Curitiba - PR  ver mapa       61   m²     --   Quarto     1   Banheiro     1   Vaga      Elevador   Interfone        R$ 2.450 /Mês       Telefone  Mensagem      ',\n",
       " '     Indisponível Visualizado                  + 4 fotos                       Sala/Conjunto    para Aluguel, 30m²    Rua Marechal Deodoro, 126 - Centro, Curitiba - PR  ver mapa       30   m²     --   Quarto     1   Banheiro     --   Vaga         R$ 700 /Mês       Telefone  Mensagem  Whatsapp     ',\n",
       " '     Indisponível Visualizado                  + 4 fotos                       Sala/Conjunto    para Aluguel, 34m²    Rua Cândido de Leão, 45 - Centro, Curitiba - PR  ver mapa       34   m²     --   Quarto     1   Banheiro     --   Vaga         R$ 950 /Mês       Telefone  Mensagem  Whatsapp     ',\n",
       " '     Indisponível Visualizado            + 12 fotos                     Sala/Conjunto    para Aluguel, 46m²    Avenida Sete de Setembro, 5426 - Batel, Curitiba - PR  ver mapa       46   m²     --   Quarto     1   Banheiro     --   Vaga      Elevador   Interfone        R$ 1.800 /Mês       Telefone  Mensagem  Whatsapp     ',\n",
       " '     Indisponível Visualizado                  + 6 fotos                       Prédio/Edificio inteiro    para Aluguel, 40m²    Avenida Sete de Setembro - Batel, Curitiba - PR  ver mapa       40   m²     --   Quarto     1   Banheiro     --   Vaga      Condomínio fechado   Área de lazer   Área de serviço        R$ 3.080 /Mês       Telefone  Mensagem  Whatsapp     ',\n",
       " '     Indisponível Visualizado               + 38 fotos                      Apartamento com  Quarto para Aluguel, 36m²    Rua Fernando Corrêa de Azevedo - Santa Felicidade, Curitiba - PR  ver mapa       36   m²     1   Quarto     1   Banheiro     1   Vaga      Churrasqueira   Garagem   Lavanderia   Mobiliado   Salão de festas        R$ 1.600 /Mês       Telefone  Mensagem  Whatsapp     ',\n",
       " '     Indisponível Visualizado                  + 23 fotos                       Apartamento com 2 Quartos para Aluguel, 45m²    Rua Ângelo Domingos Durigan, 913 - Santa Felicidade, Curitiba - PR  ver mapa       45   m²     2   Quartos     1   Banheiro     1   Vaga         R$ 1.700 /Mês     Condomínio:   R$ 300         Telefone  Mensagem  Whatsapp     ',\n",
       " '     Indisponível Visualizado                  + 14 fotos                       Apartamento com 2 Quartos para Aluguel, 66m²    Rua Santo Antônio - Rebouças, Curitiba - PR  ver mapa       66   m²     2   Quartos     1   Banheiro     1   Vaga      Cozinha   Elevador   Interfone   Área de serviço        R$ 2.700 /Mês     Condomínio:   R$ 290         Telefone  Mensagem      ',\n",
       " '     Indisponível Visualizado                  + 6 fotos                       Sala/Conjunto    para Aluguel, 50m²    Alameda Augusto Stellfeld, 1337 - Centro, Curitiba - PR  ver mapa       50   m²     --   Quarto     1   Banheiro     --   Vaga         R$ 1.650 /Mês       Telefone  Mensagem      ',\n",
       " '     Indisponível Visualizado                  + 6 fotos                       Sala/Conjunto    para Aluguel, 44m²    Avenida Cândido de Abreu, 526 - Centro Cívico, Curitiba - PR  ver mapa       44   m²     --   Quarto     1   Banheiro     --   Vaga         R$ 1.200 /Mês       Telefone  Mensagem  Whatsapp     ',\n",
       " '     Indisponível Visualizado                  + 24 fotos                       Imóvel comercial    para Aluguel, 33m²    Avenida República Argentina, 1336 - Vila Izabel, Curitiba - PR  ver mapa       33   m²     --   Quarto     --   Banheiro     1   Vaga         R$ 1.700 /Mês     Condomínio:   R$ 350         Telefone  Mensagem      ',\n",
       " '     Indisponível Visualizado               + 25 fotos                      Apartamento com 2 Quartos para Aluguel, 48m²    Rua Mário Zanlorenzi - Campo Comprido, Curitiba - PR  ver mapa       48   m²     2   Quartos     1   Banheiro     --   Vaga      Playground   Salão de festas   Aceita animais        R$ 1.200 /Mês     Condomínio:   R$ 350         Telefone  Mensagem  Whatsapp     ',\n",
       " '     Indisponível Visualizado                  + 18 fotos                       Apartamento com 3 Quartos para Aluguel, 140m²    Rua Nicolau Maeder, 211 - Alto da Glória, Curitiba - PR  ver mapa       140   m²     3   Quartos     1   Banheiro     1   Vaga      Garagem   Cozinha        R$ 2.400 /Mês  Preço abaixo do mercado      Condomínio:   R$ 980         Telefone  Mensagem  Whatsapp     ',\n",
       " '     Indisponível Visualizado            + 12 fotos                     Sala/Conjunto    para Aluguel, 37m²    Rua Engenheiro Niepce da Silva, 1237 - Água Verde, Curitiba - PR  ver mapa       37   m²     --   Quarto     1   Banheiro     --   Vaga      Elevador   Interfone        R$ 1.300 /Mês       Telefone  Mensagem  Whatsapp     ',\n",
       " '     Indisponível Visualizado            + 9 fotos                     Sala/Conjunto    para Aluguel, 39m²    Rua Dias da Rocha Filho, 250 - Alto, Curitiba - PR  ver mapa       39   m²     --   Quarto     1   Banheiro     --   Vaga         R$ 800 /Mês       Telefone  Mensagem  Whatsapp     ',\n",
       " '     Indisponível Visualizado               + 19 fotos                      Sala/Conjunto    para Aluguel, 36m²    Rua Barão do Rio Branco, 63 - Centro, Curitiba - PR  ver mapa       36   m²     --   Quarto     1   Banheiro     --   Vaga      Elevador        R$ 750 /Mês       Telefone  Mensagem  Whatsapp     ',\n",
       " '     Indisponível Visualizado               + 57 fotos                      Casa de condomínio com 3 Quartos para Aluguel, 235m²    Rua Tenente Miguel Anselmo da Silva - Pilarzinho, Curitiba - PR  ver mapa       235   m²     3   Quartos     5   Banheiros     2   Vagas      Churrasqueira   Garagem   Varanda gourmet   Aceita animais        R$ 4.500 /Mês       Telefone  Mensagem  Whatsapp     ',\n",
       " '     Indisponível Visualizado                  + 11 fotos                       Apartamento com 2 Quartos para Aluguel, 95m²    Rua José Peixoto de Lacerda Wernek, 1115 - Boqueirão, Curitiba - PR  ver mapa       95   m²     2   Quartos     1   Banheiro     2   Vagas      Garagem        R$ 1.900 /Mês  Preço abaixo do mercado        Telefone  Mensagem      ',\n",
       " '     Indisponível Visualizado               + 8 fotos                      Ponto comercial/Loja/Box    para Aluguel, 50m²    Rua Amaury Lange Silvério, 759 - Pilarzinho, Curitiba - PR  ver mapa       50   m²     --   Quarto     1   Banheiro     --   Vaga         R$ 980 /Mês       Telefone  Mensagem  Whatsapp     ',\n",
       " '     Indisponível Visualizado                  + 13 fotos                       Apartamento com  Quarto para Aluguel, 30m²    Avenida Visconde de Guarapuava, 2806 - Centro, Curitiba - PR  ver mapa       30   m²     1   Quarto     1   Banheiro     --   Vaga      Piscina   Academia   Espaço gourmet   Playground   Salão de festas  ...       R$ 2.500 /Mês     Condomínio:   R$ 319         Telefone  Mensagem  Whatsapp     ',\n",
       " '     Indisponível Visualizado                      Sala/Conjunto    para Aluguel, 38m²    Avenida Cândido de Abreu, 70 - Centro Cívico, Curitiba - PR  ver mapa       38   m²     --   Quarto     2   Banheiros     1   Vaga      Elevador   Condomínio fechado   Mais de um andar   Circuito de segurança        R$ 2.800 /Mês       Telefone  Mensagem      ',\n",
       " '     Indisponível Visualizado                  + 4 fotos                       Sala/Conjunto com 2 Quartos para Aluguel, 40m²    Avenida República Argentina - Vila Izabel, Curitiba - PR  ver mapa       40   m²     2   Quartos     1   Banheiro     1   Vaga      Área de lazer   Arvorismo   Câmera de segurança   Sala de reunião   Hall de entrada        R$ 2.550 /Mês       Telefone  Mensagem  Whatsapp     ',\n",
       " '     Indisponível Visualizado                  + 11 fotos                       Casa com 2 Quartos para Aluguel, 95m²    Rua José Peixoto de Lacerda Wernek, 1115 - Boqueirão, Curitiba - PR  ver mapa       95   m²     2   Quartos     1   Banheiro     2   Vagas      Garagem        R$ 1.900 /Mês       Telefone  Mensagem      ',\n",
       " '     Indisponível Visualizado               + 27 fotos                      Apartamento com 2 Quartos para Aluguel, 50m²    Rua Melânia Zeni Visinoni - Campo de Santana, Curitiba - PR  ver mapa       50   m²     2   Quartos     1   Banheiro     1   Vaga      Garagem   Playground   Salão de festas   Aceita animais        R$ 900 /Mês     Condomínio:   R$ 420         Telefone  Mensagem  Whatsapp     ',\n",
       " '     Indisponível Visualizado               + 9 fotos                      Apartamento com  Quarto para Aluguel, 42m²    Rua Mauá, 234 - Alto da Glória, Curitiba - PR  ver mapa       42   m²     1   Quarto     1   Banheiro     1   Vaga      Mobiliado   Garagem   Ar-condicionado   Armário na cozinha   Cozinha  ...       R$ 1.750 /Mês     Condomínio:   R$ 280         Telefone  Mensagem  Whatsapp     ',\n",
       " '     Indisponível Visualizado                  + 8 fotos                       Sala/Conjunto    para Aluguel, 96m²    Avenida Visconde de Guarapuava, 3965 - Centro, Curitiba - PR  ver mapa       96   m²     --   Quarto     3   Banheiros     --   Vaga         R$ 1.700 /Mês       Telefone  Mensagem  Whatsapp     ',\n",
       " '     Indisponível Visualizado                  + 42 fotos                       Apartamento com 3 Quartos para Aluguel, 104m²    Cristo Rei, Curitiba - PR  ver mapa       104   m²     3   Quartos     2   Banheiros     2   Vagas         R$ 2.500 /Mês     Condomínio:   R$ 700         Telefone  Mensagem  Whatsapp     ']"
      ]
     },
     "execution_count": 22,
     "metadata": {},
     "output_type": "execute_result"
    }
   ],
   "source": [
    "imoveis"
   ]
  }
 ],
 "metadata": {
  "kernelspec": {
   "display_name": "Python 3",
   "language": "python",
   "name": "python3"
  },
  "language_info": {
   "codemirror_mode": {
    "name": "ipython",
    "version": 3
   },
   "file_extension": ".py",
   "mimetype": "text/x-python",
   "name": "python",
   "nbconvert_exporter": "python",
   "pygments_lexer": "ipython3",
   "version": "3.11.7"
  }
 },
 "nbformat": 4,
 "nbformat_minor": 2
}
